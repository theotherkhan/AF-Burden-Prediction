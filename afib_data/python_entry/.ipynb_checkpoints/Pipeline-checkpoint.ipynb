{
 "cells": [
  {
   "cell_type": "markdown",
   "metadata": {},
   "source": [
    "# Pipeline\n",
    "This notebook runs a 1D CNN on ECG data from [The 4th China Physiological Signal Challenge 2021](https://physionet.org/content/cpsc2021/1.0.0/).\n",
    "\n",
    "The output of this notebook includes accuracy metrics on chunk-level classification of ECG Data, as well as AF Burden Predictions and MAE.\n",
    "\n",
    "To run this notebook, install the necessary requirements from the requirements.txt file, and download the data from the link above. Modify the DATA_PATH variable to poin to the data."
   ]
  },
  {
   "cell_type": "code",
   "execution_count": 1,
   "metadata": {},
   "outputs": [],
   "source": [
    "import numpy as np\n",
    "import os\n",
    "import sys\n",
    "import pandas as pd\n",
    "import matplotlib.pyplot as plt\n",
    "from collections import Counter\n",
    "\n",
    "import wfdb\n",
    "from sklearn.preprocessing import MinMaxScaler\n",
    "\n",
    "import warnings\n",
    "warnings.filterwarnings('ignore')\n",
    "\n",
    "\n",
    "pd.set_option(\"display.max_rows\", None, \"display.max_columns\", None)\n",
    "%matplotlib inline"
   ]
  },
  {
   "cell_type": "code",
   "execution_count": null,
   "metadata": {},
   "outputs": [],
   "source": [
    "DATA_PATH = \"/Users/Hasan/Desktop/Workspace/cpsc2021-AFIB/afib_data\""
   ]
  },
  {
   "cell_type": "markdown",
   "metadata": {},
   "source": [
    "## Data Preprocessing"
   ]
  },
  {
   "cell_type": "code",
   "execution_count": null,
   "metadata": {},
   "outputs": [],
   "source": [
    "def load_record(sample_path):\n",
    "    \n",
    "    '''  returns signal, global label, local labels ''' \n",
    "    \n",
    "    sig, fields = wfdb.rdsamp(sample_path)\n",
    "    ann_ref = wfdb.rdann(sample_path, 'atr')\n",
    "    \n",
    "    label = fields['comments'][0]\n",
    "    fs = fields['fs']\n",
    "    sig = sig[:, 1]\n",
    "    length = len(sig)\n",
    "    \n",
    "    #print(\"Signal: \", sig)\n",
    "    #print(\"\\nLabel: \", label)\n",
    "    #print(wfdb.rdsamp(sample_path))\n",
    "    #print(\"\\n\\n\", wfdb.rdann(sample_path, 'atr').aux_note)\n",
    "    \n",
    "    beat_loc = np.array(ann_ref.sample) # r-peak locations\n",
    "    ann_note = np.array(ann_ref.aux_note) # rhythm change flag\n",
    "    \n",
    "    return sig, length, fs, label, ann_note, beat_loc\n"
   ]
  },
  {
   "cell_type": "code",
   "execution_count": null,
   "metadata": {},
   "outputs": [],
   "source": [
    "def normalize(signal):\n",
    "\n",
    "    values = signal\n",
    "    values = values.reshape((len(values), 1))\n",
    "    scaler = MinMaxScaler(feature_range=(0, 1))\n",
    "    scaler = scaler.fit(values)\n",
    "    normalized = scaler.transform(values)\n",
    "    normalized = [item for sublist in normalized for item in sublist]\n",
    "    #print(normalized)\n",
    "\n",
    "    return normalized"
   ]
  },
  {
   "cell_type": "code",
   "execution_count": null,
   "metadata": {},
   "outputs": [],
   "source": [
    "def chunks(lst, n):\n",
    "    return [lst[i:i + n] for i in range(0, len(lst), n)]"
   ]
  },
  {
   "cell_type": "code",
   "execution_count": null,
   "metadata": {},
   "outputs": [],
   "source": [
    "def build_chunked_input(seconds):\n",
    "        \n",
    "    ''' Builds chunked signal input  '''\n",
    "        \n",
    "    test_set = open(os.path.join(DATA_PATH, 'RECORDS'), 'r').read().splitlines()\n",
    "\n",
    "    input_df = pd.DataFrame(columns=[\"Sequence Number\", \"Chunked Signal\", \"Sequence Label\", \n",
    "                                     \"Chunked Label\", \"Signal Length\", \"AF Burden\"])\n",
    "      \n",
    "    for i, sample in enumerate(test_set):\n",
    "        \n",
    "        #print(\"\\n\\n\\n\", sample)\n",
    "        print(i, end='\\r')\n",
    "        sample_path = os.path.join(DATA_PATH, sample)\n",
    "        sig, sig_len, fs, label, label_arr, beat_loc = load_record(sample_path)\n",
    "        \n",
    "        r_peaks = beat_loc\n",
    "        #qrs_peaks = (qrs_detect(sig, fs)).astype(int)\n",
    "        #r_peaks = qrs_peaks\n",
    "        chunksize = seconds*200\n",
    "        \n",
    "        #print(sig)\n",
    "        #print(\"\\n\\nr_peaks: \", r_peaks, len(r_peaks))\n",
    "        #print(\"\\nqrs_detect: \", qrs_peaks, len(qrs_peaks))\n",
    "        \n",
    "        sig = normalize(sig)\n",
    "        \n",
    "        ## Calculate exact AF ranges in sequence Label arr acts as an index \n",
    "        ## for which peaks in r_peaks are afib\n",
    "           \n",
    "        af_ranges = []\n",
    "        af_range = []\n",
    "                \n",
    "        for li, l in enumerate(label_arr):\n",
    "            if l == \"(AFIB\" or l == \"(AFL\":\n",
    "                printlabelarr = True\n",
    "                start = r_peaks[li] #r_peaks[min(len(r_peaks)-1, li)]\n",
    "                af_range.append(start)\n",
    "            if l == \"(N\":\n",
    "                stop = r_peaks[li] #r_peaks[min(len(r_peaks)-1, li)]\n",
    "                af_range.append(stop)\n",
    "                af_ranges.append(af_range)\n",
    "                af_range = []\n",
    "        \n",
    "        #print(\"\\n\", af_ranges)\n",
    "        \n",
    "        ## Label sections of signal as AF/non AF\n",
    "        loc_labels = [0]*sig_len\n",
    "        for rng in af_ranges:\n",
    "            start = rng[0]\n",
    "            stop = rng[1]\n",
    "            loc_labels[ start : stop ] = [1] * (stop-start) \n",
    "        \n",
    "        ## Break signal and label sequences down to n-second chunks\n",
    "        chunked_sig = chunks(sig, chunksize)[:-1]\n",
    "        chunked_label = chunks(loc_labels, chunksize)[:-1]\n",
    "        \n",
    "        ## Calculate AF Burden per sequence based on AF ranges\n",
    "        burden=0\n",
    "        for rng in af_ranges:\n",
    "            burden+=rng[1]-rng[0] \n",
    "        burden = burden/sig_len  \n",
    "\n",
    "        input_df.at[i, 'Sequence Number'] = i\n",
    "        input_df.at[i, 'Chunked Signal'] = chunked_sig\n",
    "        input_df.at[i, 'Chunked Label'] = chunked_label\n",
    "        input_df.at[i, 'Signal Length'] = sig_len\n",
    "        input_df.at[i, 'Sequence Label'] = label\n",
    "        input_df.at[i, 'AF Burden'] = burden\n",
    "        \n",
    "    ## Convert from sequence-level df into chunk-level df\n",
    "    input_df = input_df.explode([\"Chunked Signal\", \"Chunked Label\"])\n",
    "    input_df.dropna(subset=['Chunked Label'], inplace=True)\n",
    "\n",
    "    ## Assign most common granular label as overall chunk label\n",
    "    input_df[\"Chunked Label\"] = input_df[\"Chunked Label\"].apply(lambda x: Counter(x).most_common(1)[0][0])\n",
    "    \n",
    "    return input_df\n"
   ]
  },
  {
   "cell_type": "code",
   "execution_count": null,
   "metadata": {},
   "outputs": [],
   "source": [
    "seconds=10\n",
    "chunk_df = build_chunked_input(seconds)\n",
    "chunk_df.dropna(inplace=True)\n",
    "chunk_df.info(null_counts=True)"
   ]
  },
  {
   "cell_type": "code",
   "execution_count": null,
   "metadata": {},
   "outputs": [],
   "source": [
    "%%time\n",
    "chunk_df = chunk_df.reset_index()\n",
    "chunk_df.to_feather(\"./chunk_df_1436_10\")"
   ]
  },
  {
   "cell_type": "markdown",
   "metadata": {},
   "source": [
    "## Model"
   ]
  },
  {
   "cell_type": "code",
   "execution_count": 2,
   "metadata": {},
   "outputs": [],
   "source": [
    "from keras.models import Sequential\n",
    "from keras.layers import Dense, Dropout, Activation, Flatten\n",
    "from keras.layers import Embedding, MaxPooling1D\n",
    "from keras.layers import Conv1D, GlobalMaxPooling1D, GlobalAveragePooling1D\n",
    "from keras.preprocessing.text import Tokenizer\n",
    "from keras.preprocessing import sequence\n",
    "\n",
    "from sklearn.preprocessing import LabelEncoder\n",
    "import time\n",
    "from keras import metrics"
   ]
  },
  {
   "cell_type": "code",
   "execution_count": 3,
   "metadata": {},
   "outputs": [
    {
     "name": "stdout",
     "output_type": "stream",
     "text": [
      "CPU times: user 3.26 s, sys: 7.3 s, total: 10.6 s\n",
      "Wall time: 14.8 s\n"
     ]
    }
   ],
   "source": [
    "%%time\n",
    "chunk_df = pd.read_feather(\"./chunk_df_1436_10\", columns=None, use_threads=True)"
   ]
  },
  {
   "cell_type": "code",
   "execution_count": 4,
   "metadata": {},
   "outputs": [
    {
     "name": "stdout",
     "output_type": "stream",
     "text": [
      "Cutoff:  996\n"
     ]
    }
   ],
   "source": [
    "## Split into train and test data (70-30 split). Ensure record chunks are not split between train and test\n",
    "\n",
    "cutoff = int(.7*max(chunk_df['Sequence Number']))\n",
    "print(\"Cutoff: \", cutoff)\n",
    "train_df = chunk_df[chunk_df['Sequence Number'] < cutoff]\n",
    "test_df = chunk_df[chunk_df['Sequence Number'] >= cutoff]\n",
    "\n",
    "X_train = pd.DataFrame(train_df['Chunked Signal'].tolist())\n",
    "X_test = pd.DataFrame(test_df['Chunked Signal'].tolist())\n",
    "\n",
    "y_train = pd.DataFrame(train_df['Chunked Label'].tolist())\n",
    "y_test = pd.DataFrame(test_df['Chunked Label'].tolist())\n",
    "\n",
    "print(X_train.shape, X_test.shape, y_train.shape, y_test.shape)"
   ]
  },
  {
   "cell_type": "code",
   "execution_count": 9,
   "metadata": {},
   "outputs": [
    {
     "name": "stderr",
     "output_type": "stream",
     "text": [
      "2021-12-12 21:20:29.832760: I tensorflow/core/platform/cpu_feature_guard.cc:151] This TensorFlow binary is optimized with oneAPI Deep Neural Network Library (oneDNN) to use the following CPU instructions in performance-critical operations:  AVX2 FMA\n",
      "To enable them in other operations, rebuild TensorFlow with the appropriate compiler flags.\n"
     ]
    },
    {
     "name": "stdout",
     "output_type": "stream",
     "text": [
      "Model: \"sequential\"\n",
      "_________________________________________________________________\n",
      " Layer (type)                Output Shape              Param #   \n",
      "=================================================================\n",
      " dense (Dense)               (None, 2000, 100)         200       \n",
      "                                                                 \n",
      " conv1d (Conv1D)             (None, 1991, 100)         100100    \n",
      "                                                                 \n",
      " conv1d_1 (Conv1D)           (None, 1982, 100)         100100    \n",
      "                                                                 \n",
      " max_pooling1d (MaxPooling1D  (None, 660, 100)         0         \n",
      " )                                                               \n",
      "                                                                 \n",
      " conv1d_2 (Conv1D)           (None, 651, 160)          160160    \n",
      "                                                                 \n",
      " conv1d_3 (Conv1D)           (None, 642, 160)          256160    \n",
      "                                                                 \n",
      " global_average_pooling1d (G  (None, 160)              0         \n",
      " lobalAveragePooling1D)                                          \n",
      "                                                                 \n",
      " dropout (Dropout)           (None, 160)               0         \n",
      "                                                                 \n",
      " dense_1 (Dense)             (None, 1)                 161       \n",
      "                                                                 \n",
      "=================================================================\n",
      "Total params: 616,881\n",
      "Trainable params: 616,881\n",
      "Non-trainable params: 0\n",
      "_________________________________________________________________\n",
      "Epoch 1/2\n",
      "8490/8490 [==============================] - 2784s 328ms/step - loss: 0.2611 - accuracy: 0.8864\n",
      "Epoch 2/2\n",
      "8490/8490 [==============================] - 2842s 335ms/step - loss: 0.0732 - accuracy: 0.9765\n",
      "CPU times: user 9h 45min 7s, sys: 48min 28s, total: 10h 33min 35s\n",
      "Wall time: 1h 34min 1s\n"
     ]
    },
    {
     "data": {
      "text/plain": [
       "<keras.callbacks.History at 0x7fd8f2a40e80>"
      ]
     },
     "execution_count": 9,
     "metadata": {},
     "output_type": "execute_result"
    }
   ],
   "source": [
    "%%time\n",
    "\n",
    "batch = 16\n",
    "epochs = 2\n",
    "shape = np.size(X_train, 1)\n",
    "\n",
    "model = Sequential()\n",
    "model.add(Dense(100, activation='relu', input_shape = (shape,1)))\n",
    "model.add(Conv1D(100, 10, activation='relu'))\n",
    "model.add(Conv1D(100, 10, activation='relu'))\n",
    "model.add(MaxPooling1D(3))\n",
    "model.add(Conv1D(160, 10, activation='relu'))\n",
    "model.add(Conv1D(160, 10, activation='relu'))\n",
    "model.add(GlobalAveragePooling1D())\n",
    "model.add(Dropout(0.3))\n",
    "model.add(Dense(1, activation='sigmoid')) \n",
    "model.summary()\n",
    "model.compile(loss='binary_crossentropy',\n",
    "        optimizer='rmsprop',\n",
    "        metrics=['accuracy'])\n",
    "\n",
    "X_train = np.expand_dims(X_train, 2)\n",
    "#X_test = np.expand_dims(X_test, 2)\n",
    "\n",
    "\n",
    "model.fit(X_train,y_train, batch_size = batch, epochs = epochs)"
   ]
  },
  {
   "cell_type": "code",
   "execution_count": 10,
   "metadata": {},
   "outputs": [
    {
     "name": "stdout",
     "output_type": "stream",
     "text": [
      "2270/2270 [==============================] - 230s 101ms/step - loss: 0.4611 - accuracy: 0.9101\n",
      "CPU times: user 24min 7s, sys: 31.8 s, total: 24min 38s\n",
      "Wall time: 3min 52s\n"
     ]
    },
    {
     "data": {
      "text/plain": [
       "[0.461062490940094, 0.9101123809814453]"
      ]
     },
     "execution_count": 10,
     "metadata": {},
     "output_type": "execute_result"
    }
   ],
   "source": [
    "%%time \n",
    "\n",
    "X_test = np.expand_dims(X_test, 2)\n",
    "score = model.evaluate(X_test, y_test, batch_size = batch)\n",
    "score"
   ]
  },
  {
   "cell_type": "code",
   "execution_count": 11,
   "metadata": {},
   "outputs": [
    {
     "name": "stdout",
     "output_type": "stream",
     "text": [
      "Saved model to disk\n"
     ]
    }
   ],
   "source": [
    "## Save Model & Weights\n",
    "\n",
    "try:\n",
    "    # serialize model to JSON\n",
    "    model_json = model.to_json()\n",
    "    with open(\"full_model_1400_10.json\", \"w\") as json_file:\n",
    "        json_file.write(model_json)\n",
    "\n",
    "    # serialize weights to HDF5\n",
    "    model.save_weights(\"full_model_1400_10.h5\")\n",
    "    print(\"Saved model to disk\")\n",
    "except:\n",
    "    print(\"Model failed to save\")"
   ]
  },
  {
   "cell_type": "markdown",
   "metadata": {},
   "source": [
    "## Evaluation"
   ]
  },
  {
   "cell_type": "code",
   "execution_count": 12,
   "metadata": {},
   "outputs": [
    {
     "name": "stdout",
     "output_type": "stream",
     "text": [
      "\n",
      " Accuracy:  0.9101123809814453\n",
      "\n",
      " Loss:  0.461062490940094\n",
      "\n",
      " F1 score:  0.9100525955042035\n",
      "\n",
      " Confusion Matrix: \n",
      " [[16056  2020]\n",
      " [ 1244 16992]]\n",
      "CPU times: user 33min 51s, sys: 56.3 s, total: 34min 48s\n",
      "Wall time: 13min\n"
     ]
    }
   ],
   "source": [
    "%%time\n",
    "\n",
    "from sklearn.metrics import confusion_matrix\n",
    "from sklearn.metrics import f1_score\n",
    "from sklearn.metrics import mean_absolute_error\n",
    "\n",
    "\n",
    "threshold = 0.5\n",
    "\n",
    "y_pred = model.predict(X_test, batch_size = batch)\n",
    "y_test['y_pred'] = y_pred[:,0] > threshold\n",
    "if \"index\" in y_test.columns: y_test.drop('index', inplace=True)\n",
    "y_test.columns=['y_true', 'y_pred']\n",
    "y_test['y_pred'] = y_test['y_pred'].astype(float)\n",
    "\n",
    "cm = confusion_matrix(y_test['y_true'], y_test['y_pred'])\n",
    "\n",
    "print(\"\\n Accuracy: \", score[1])\n",
    "print(\"\\n Loss: \", score[0])\n",
    "print(\"\\n F1 score: \", f1_score(y_test['y_true'], y_test['y_pred'], average='macro'))\n",
    "print(\"\\n Confusion Matrix: \\n\", cm)"
   ]
  },
  {
   "cell_type": "code",
   "execution_count": 13,
   "metadata": {},
   "outputs": [],
   "source": [
    "## Append predictions to test dataset\n",
    "\n",
    "test_df.reset_index(inplace=True)\n",
    "y_test.reset_index(inplace=True)\n",
    "chunked_test = pd.concat([test_df, y_test], axis=1)"
   ]
  },
  {
   "cell_type": "code",
   "execution_count": 16,
   "metadata": {},
   "outputs": [],
   "source": [
    "## Condense dataset back to the sequence level, calculate Predicted AF Burden\n",
    "\n",
    "chunked_test['y_pred_2'] = chunked_test['y_pred']\n",
    "\n",
    "seq_test = (chunked_test.drop(columns=['Chunked Signal'])\n",
    "      .groupby(['Sequence Number', 'Sequence Label', 'AF Burden', 'Signal Length'])\n",
    "      .agg({'Chunked Label': lambda x: x.tolist() , 'y_pred': lambda x: x.tolist(), 'y_pred_2':'sum', })\n",
    "      .rename({'y_pred_2' : 'AF Episodes'},axis=1)\n",
    "      .reset_index())\n",
    "\n",
    "seq_test['Predicted AF Burden'] = (seq_test['AF Episodes']*seconds*200) / seq_test['Signal Length']"
   ]
  },
  {
   "cell_type": "code",
   "execution_count": 20,
   "metadata": {},
   "outputs": [
    {
     "data": {
      "text/plain": [
       "0.12376731011513718"
      ]
     },
     "execution_count": 20,
     "metadata": {},
     "output_type": "execute_result"
    }
   ],
   "source": [
    "## Calculate MAE for AF Burden Predications\n",
    "\n",
    "burden_mae = mean_absolute_error(seq_test['AF Burden'],seq_test['Predicted AF Burden'])\n",
    "burden_mae"
   ]
  },
  {
   "cell_type": "code",
   "execution_count": 19,
   "metadata": {},
   "outputs": [
    {
     "data": {
      "text/plain": [
       "Text(0, 0.5, 'Predicted Burden')"
      ]
     },
     "execution_count": 19,
     "metadata": {},
     "output_type": "execute_result"
    },
    {
     "data": {
      "image/png": "[encoded data removed]",
      "text/plain": [
       "<Figure size 432x288 with 1 Axes>"
      ]
     },
     "metadata": {
      "needs_background": "light"
     },
     "output_type": "display_data"
    }
   ],
   "source": [
    "## Visualize AF Burden\n",
    "\n",
    "plt.scatter(seq_test['AF Burden'], seq_test['Predicted AF Burden'])\n",
    "plt.xlabel(\"True Burden\")\n",
    "plt.ylabel(\"Predicted Burden\")"
   ]
  },
  {
   "cell_type": "code",
   "execution_count": 21,
   "metadata": {},
   "outputs": [],
   "source": [
    "seq_test.to_pickle(\"final_test_10SEC.pkl\")"
   ]
  }
 ],
 "metadata": {
  "kernelspec": {
   "display_name": "Python 3 (ipykernel)",
   "language": "python",
   "name": "python3"
  },
  "language_info": {
   "codemirror_mode": {
    "name": "ipython",
    "version": 3
   },
   "file_extension": ".py",
   "mimetype": "text/x-python",
   "name": "python",
   "nbconvert_exporter": "python",
   "pygments_lexer": "ipython3",
   "version": "3.8.12"
  }
 },
 "nbformat": 4,
 "nbformat_minor": 4
}
