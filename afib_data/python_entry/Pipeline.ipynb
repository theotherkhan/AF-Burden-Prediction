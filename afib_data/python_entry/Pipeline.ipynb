{
 "cells": [
  {
   "cell_type": "code",
   "execution_count": 1,
   "metadata": {},
   "outputs": [],
   "source": [
    "import numpy as np\n",
    "import os\n",
    "import sys\n",
    "import pandas as pd\n",
    "import matplotlib.pyplot as plt\n",
    "from collections import Counter\n",
    "\n",
    "import wfdb\n",
    "from utils import qrs_detect, comp_cosEn, save_dict\n",
    "from sklearn.preprocessing import MinMaxScaler\n",
    "\n",
    "import warnings\n",
    "warnings.filterwarnings('ignore')\n",
    "\n",
    "\n",
    "pd.set_option(\"display.max_rows\", None, \"display.max_columns\", None)\n",
    "%matplotlib inline"
   ]
  },
  {
   "cell_type": "markdown",
   "metadata": {},
   "source": [
    "## Data Preprocessing"
   ]
  },
  {
   "cell_type": "code",
   "execution_count": 2,
   "metadata": {},
   "outputs": [],
   "source": [
    "def load_record(sample_path):\n",
    "    \n",
    "    '''  returns signal, global label, local labels ''' \n",
    "    \n",
    "    sig, fields = wfdb.rdsamp(sample_path)\n",
    "    ann_ref = wfdb.rdann(sample_path, 'atr')\n",
    "    \n",
    "    #print(wfdb.rdsamp(sample_path))\n",
    "    #print(\"\\n\\n\", wfdb.rdann(sample_path, 'atr').aux_note)\n",
    "    \n",
    "    label = fields['comments'][0]\n",
    "    fs = fields['fs']\n",
    "    sig = sig[:, 1]\n",
    "    length = len(sig)\n",
    "    \n",
    "    #print(\"Signal: \", sig)\n",
    "    #print(\"\\nLabel: \", label)\n",
    "    \n",
    "    beat_loc = np.array(ann_ref.sample) # r-peak locations\n",
    "    ann_note = np.array(ann_ref.aux_note) # rhythm change flag\n",
    "    \n",
    "    return sig, length, fs, label, ann_note, beat_loc\n"
   ]
  },
  {
   "cell_type": "code",
   "execution_count": 16,
   "metadata": {},
   "outputs": [],
   "source": [
    "def normalize(signal):\n",
    "\n",
    "    values = signal\n",
    "    values = values.reshape((len(values), 1))\n",
    "    scaler = MinMaxScaler(feature_range=(0, 1))\n",
    "    scaler = scaler.fit(values)\n",
    "    normalized = scaler.transform(values)\n",
    "    normalized = [item for sublist in normalized for item in sublist]\n",
    "    \n",
    "    #print(normalized)\n",
    "\n",
    "    return normalized"
   ]
  },
  {
   "cell_type": "code",
   "execution_count": null,
   "metadata": {},
   "outputs": [],
   "source": [
    "def build_input():\n",
    "    \n",
    "    ''' Builds input DF '''\n",
    "\n",
    "    DATA_PATH = \"/Users/Hasan/Desktop/Workspace/cpsc2021-AFIB/afib_data\"\n",
    "    RESULT_PATH = \"/Users/Hasan/Desktop/Workspace/cpsc2021-AFIB/afib_data/output\"\n",
    "    if not os.path.exists(RESULT_PATH):\n",
    "        os.makedirs(RESULT_PATH)\n",
    "        \n",
    "    test_set = open(os.path.join(DATA_PATH, 'RECORDS'), 'r').read().splitlines()[0:10]\n",
    "    \n",
    "    input_df = pd.DataFrame(columns=[\"Signal\", \"Signal Length\", \"Label\"])\n",
    "  \n",
    "    for i, sample in enumerate(test_set):\n",
    "        \n",
    "        #print(\"\\n\\n\\n\", sample)\n",
    "        sample_path = os.path.join(DATA_PATH, sample)\n",
    "        sig, sig_len, fs, label, label_arr, beat_loc  = load_record(sample_path)\n",
    "        \n",
    "        #sig = normalize_signal(sig)\n",
    "        \n",
    "        input_df.at[i, 'Signal'] = sig\n",
    "        input_df.at[i, 'Signal Length'] = sig_len\n",
    "        input_df.at[i, 'Label'] = label\n",
    "    \n",
    "        #input_df.append(build_seq_input(sample_path))\n",
    "        #pred_dict = challenge_entry(sample_path)\n",
    "        \n",
    "    return input_df\n",
    "    \n",
    "df = build_input()\n",
    "df.to_pickle(\"/Users/Hasan/Desktop/Workspace/cpsc2021-AFIB/afib_data/df.pkl\")\n",
    "df.info()"
   ]
  },
  {
   "cell_type": "code",
   "execution_count": 107,
   "metadata": {
    "scrolled": true
   },
   "outputs": [
    {
     "ename": "AttributeError",
     "evalue": "'list' object has no attribute 'shape'",
     "output_type": "error",
     "traceback": [
      "\u001b[0;31m---------------------------------------------------------------------------\u001b[0m",
      "\u001b[0;31mTypeError\u001b[0m                                 Traceback (most recent call last)",
      "\u001b[0;32m~/opt/anaconda3/envs/cpsc/lib/python3.8/site-packages/numpy/lib/shape_base.py\u001b[0m in \u001b[0;36msplit\u001b[0;34m(ary, indices_or_sections, axis)\u001b[0m\n\u001b[1;32m    866\u001b[0m     \u001b[0;32mtry\u001b[0m\u001b[0;34m:\u001b[0m\u001b[0;34m\u001b[0m\u001b[0;34m\u001b[0m\u001b[0m\n\u001b[0;32m--> 867\u001b[0;31m         \u001b[0mlen\u001b[0m\u001b[0;34m(\u001b[0m\u001b[0mindices_or_sections\u001b[0m\u001b[0;34m)\u001b[0m\u001b[0;34m\u001b[0m\u001b[0;34m\u001b[0m\u001b[0m\n\u001b[0m\u001b[1;32m    868\u001b[0m     \u001b[0;32mexcept\u001b[0m \u001b[0mTypeError\u001b[0m\u001b[0;34m:\u001b[0m\u001b[0;34m\u001b[0m\u001b[0;34m\u001b[0m\u001b[0m\n",
      "\u001b[0;31mTypeError\u001b[0m: object of type 'int' has no len()",
      "\nDuring handling of the above exception, another exception occurred:\n",
      "\u001b[0;31mAttributeError\u001b[0m                            Traceback (most recent call last)",
      "\u001b[0;32m/var/folders/jb/m0v9kc5d51xct83pk_v1ghcr0000gn/T/ipykernel_50682/1502663121.py\u001b[0m in \u001b[0;36m<module>\u001b[0;34m\u001b[0m\n\u001b[1;32m    102\u001b[0m \u001b[0;34m\u001b[0m\u001b[0m\n\u001b[1;32m    103\u001b[0m \u001b[0;32mfor\u001b[0m \u001b[0mi\u001b[0m \u001b[0;32min\u001b[0m \u001b[0mrange\u001b[0m\u001b[0;34m(\u001b[0m\u001b[0;36m0\u001b[0m\u001b[0;34m,\u001b[0m\u001b[0;36m1\u001b[0m\u001b[0;34m)\u001b[0m\u001b[0;34m:\u001b[0m\u001b[0;34m\u001b[0m\u001b[0;34m\u001b[0m\u001b[0m\n\u001b[0;32m--> 104\u001b[0;31m     \u001b[0mdf\u001b[0m \u001b[0;34m=\u001b[0m \u001b[0mbuild_chunked_input\u001b[0m\u001b[0;34m(\u001b[0m\u001b[0;36m0\u001b[0m\u001b[0;34m+\u001b[0m\u001b[0;34m(\u001b[0m\u001b[0;36m200\u001b[0m\u001b[0;34m*\u001b[0m\u001b[0mi\u001b[0m\u001b[0;34m)\u001b[0m\u001b[0;34m,\u001b[0m \u001b[0;36m200\u001b[0m\u001b[0;34m+\u001b[0m\u001b[0;34m(\u001b[0m\u001b[0;36m200\u001b[0m\u001b[0;34m*\u001b[0m\u001b[0mi\u001b[0m\u001b[0;34m)\u001b[0m\u001b[0;34m)\u001b[0m\u001b[0;34m\u001b[0m\u001b[0;34m\u001b[0m\u001b[0m\n\u001b[0m\u001b[1;32m    105\u001b[0m     \u001b[0mprint\u001b[0m\u001b[0;34m(\u001b[0m\u001b[0mdf\u001b[0m\u001b[0;34m.\u001b[0m\u001b[0mshape\u001b[0m\u001b[0;34m)\u001b[0m\u001b[0;34m\u001b[0m\u001b[0;34m\u001b[0m\u001b[0m\n\u001b[1;32m    106\u001b[0m     \u001b[0mdfs\u001b[0m\u001b[0;34m.\u001b[0m\u001b[0mappend\u001b[0m\u001b[0;34m(\u001b[0m\u001b[0mdf\u001b[0m\u001b[0;34m)\u001b[0m\u001b[0;34m\u001b[0m\u001b[0;34m\u001b[0m\u001b[0m\n",
      "\u001b[0;32m/var/folders/jb/m0v9kc5d51xct83pk_v1ghcr0000gn/T/ipykernel_50682/1502663121.py\u001b[0m in \u001b[0;36mbuild_chunked_input\u001b[0;34m(start, stop)\u001b[0m\n\u001b[1;32m     75\u001b[0m         \u001b[0;31m#print(\"Sequence Label: \", label)\u001b[0m\u001b[0;34m\u001b[0m\u001b[0;34m\u001b[0m\u001b[0;34m\u001b[0m\u001b[0m\n\u001b[1;32m     76\u001b[0m \u001b[0;34m\u001b[0m\u001b[0m\n\u001b[0;32m---> 77\u001b[0;31m         \u001b[0mchunked_sig\u001b[0m \u001b[0;34m=\u001b[0m \u001b[0mnp\u001b[0m\u001b[0;34m.\u001b[0m\u001b[0msplit\u001b[0m\u001b[0;34m(\u001b[0m\u001b[0msig\u001b[0m\u001b[0;34m,\u001b[0m \u001b[0mchunksize\u001b[0m\u001b[0;34m)\u001b[0m\u001b[0;34m\u001b[0m\u001b[0;34m\u001b[0m\u001b[0m\n\u001b[0m\u001b[1;32m     78\u001b[0m         \u001b[0mchunked_label\u001b[0m \u001b[0;34m=\u001b[0m \u001b[0mnp\u001b[0m\u001b[0;34m.\u001b[0m\u001b[0msplit\u001b[0m\u001b[0;34m(\u001b[0m\u001b[0mloc_labels\u001b[0m\u001b[0;34m,\u001b[0m \u001b[0mchunksize\u001b[0m\u001b[0;34m)\u001b[0m\u001b[0;34m\u001b[0m\u001b[0;34m\u001b[0m\u001b[0m\n\u001b[1;32m     79\u001b[0m         \u001b[0;31m#print(len(chunked_sig), len(chunked_label))\u001b[0m\u001b[0;34m\u001b[0m\u001b[0;34m\u001b[0m\u001b[0;34m\u001b[0m\u001b[0m\n",
      "\u001b[0;32m<__array_function__ internals>\u001b[0m in \u001b[0;36msplit\u001b[0;34m(*args, **kwargs)\u001b[0m\n",
      "\u001b[0;32m~/opt/anaconda3/envs/cpsc/lib/python3.8/site-packages/numpy/lib/shape_base.py\u001b[0m in \u001b[0;36msplit\u001b[0;34m(ary, indices_or_sections, axis)\u001b[0m\n\u001b[1;32m    868\u001b[0m     \u001b[0;32mexcept\u001b[0m \u001b[0mTypeError\u001b[0m\u001b[0;34m:\u001b[0m\u001b[0;34m\u001b[0m\u001b[0;34m\u001b[0m\u001b[0m\n\u001b[1;32m    869\u001b[0m         \u001b[0msections\u001b[0m \u001b[0;34m=\u001b[0m \u001b[0mindices_or_sections\u001b[0m\u001b[0;34m\u001b[0m\u001b[0;34m\u001b[0m\u001b[0m\n\u001b[0;32m--> 870\u001b[0;31m         \u001b[0mN\u001b[0m \u001b[0;34m=\u001b[0m \u001b[0mary\u001b[0m\u001b[0;34m.\u001b[0m\u001b[0mshape\u001b[0m\u001b[0;34m[\u001b[0m\u001b[0maxis\u001b[0m\u001b[0;34m]\u001b[0m\u001b[0;34m\u001b[0m\u001b[0;34m\u001b[0m\u001b[0m\n\u001b[0m\u001b[1;32m    871\u001b[0m         \u001b[0;32mif\u001b[0m \u001b[0mN\u001b[0m \u001b[0;34m%\u001b[0m \u001b[0msections\u001b[0m\u001b[0;34m:\u001b[0m\u001b[0;34m\u001b[0m\u001b[0;34m\u001b[0m\u001b[0m\n\u001b[1;32m    872\u001b[0m             raise ValueError(\n",
      "\u001b[0;31mAttributeError\u001b[0m: 'list' object has no attribute 'shape'"
     ]
    }
   ],
   "source": [
    "def build_chunked_input(start, stop):\n",
    "    \n",
    "    ''' Builds chunked DF input  '''\n",
    "\n",
    "    DATA_PATH = \"/Users/Hasan/Desktop/Workspace/cpsc2021-AFIB/afib_data\"\n",
    "    RESULT_PATH = \"/Users/Hasan/Desktop/Workspace/cpsc2021-AFIB/afib_data/output\"\n",
    "    if not os.path.exists(RESULT_PATH):\n",
    "        os.makedirs(RESULT_PATH)\n",
    "        \n",
    "    test_set = open(os.path.join(DATA_PATH, 'RECORDS'), 'r').read().splitlines()[start:stop]\n",
    "    seconds = 1\n",
    "    chunksize = seconds*200\n",
    "    \n",
    "    input_df = pd.DataFrame(columns=[\"Signal\", \"Granular Labels\", \"Sequence Label\", \"Chunk Label\", \"Signal Length\"])\n",
    "  \n",
    "    #test_set=[\"Training_set_II/data_86_9\"]\n",
    "    \n",
    "    for i, sample in enumerate(test_set):\n",
    "        \n",
    "        #print(\"\\n\\n\\n\", sample)\n",
    "        #print(i, end='\\r')\n",
    "        sample_path = os.path.join(DATA_PATH, sample)\n",
    "        sig, sig_len, fs, label, label_arr, beat_loc = load_record(sample_path)\n",
    "        loc_labels = ['non atrial fibrillation']*sig_len\n",
    "        r_peaks = beat_loc #qrs_detect(sig, fs)\n",
    "        \n",
    "        #print(sig)\n",
    "        sig = normalize(sig)\n",
    "        \n",
    "        printlabelarr = False \n",
    "        af_ranges = []\n",
    "        af_range = []\n",
    "        \n",
    "        ## Calculate exact AF ranges in sequence\n",
    "        ''' Label arr acts as an index for which peaks in r_peaks are afib; '''\n",
    "        \n",
    "        #print('Label arr: ', label_arr)\n",
    "        \n",
    "        for li, l in enumerate(label_arr):\n",
    "            if l == \"(AFIB\" or l == \"(AFL\":\n",
    "                #print(\"AFIB detected\")\n",
    "                printlabelarr = True\n",
    "                start = r_peaks[li]\n",
    "                af_range.append(start)\n",
    "                #print(np.where(label_arr == l)[0])\n",
    "                #loc_labels[ r_peaks[ label_arr.index(mini_label) ]] = 'AFIB'\n",
    "            if l == \"(N\":\n",
    "                stop = r_peaks[li]\n",
    "                af_range.append(stop)\n",
    "                af_ranges.append(af_range)\n",
    "                af_range = []\n",
    "        \n",
    "        #print(\"\\n\", af_ranges)\n",
    "        ## Label AF for AF sections of the signal\n",
    "        for rng in af_ranges:\n",
    "            start = rng[0]\n",
    "            stop = rng[1]\n",
    "            #print(\"Signal AF start/stop ranges: \", start, stop)\n",
    "            #print(r_peaks[start], r_peaks[stop])\n",
    "            loc_labels[ start : stop ] = ['AFIB'] * (stop-start) \n",
    "        \n",
    "       \n",
    "        #print(\"Signal: \", sig)\n",
    "        #print(\"Signal len: \", sig_len)\n",
    "        #print(\"QRS Peak locations: \", r_peaks)\n",
    "        #print(len(r_peaks))\n",
    "        \n",
    "        \n",
    "        #if printlabelarr: \n",
    "            #print(\"Label Arr: \", label_arr)\n",
    "            #print(len(label_arr))\n",
    "            #print(\"AF ranges: \", af_ranges)\n",
    "            #print(\"Granular Labels: \", loc_labels[0:10])\n",
    "            #print(len(loc_labels))\n",
    "        #print(\"Sequence Label: \", label)\n",
    "       \n",
    "        chunked_sig   = np.split(sig, chunksize)\n",
    "        chunked_label = np.split(loc_labels, chunksize)\n",
    "        \n",
    "        #print(len(chunked_sig), len(chunked_label))\n",
    "\n",
    "        input_df.at[i, 'Signal'] = chunked_sig\n",
    "        input_df.at[i, 'Granular Labels'] = chunked_label\n",
    "        input_df.at[i, 'Signal Length'] = sig_len\n",
    "        input_df.at[i, 'Sequence Label'] = label\n",
    "\n",
    "    \n",
    "        #input_df.append(build_seq_input(sample_path))\n",
    "        #pred_dict = challenge_entry(sample_path)\n",
    "        \n",
    "    input_df = input_df.explode([\"Signal\", \"Granular Labels\"])\n",
    "    \n",
    "    #print(\"\\n\", input_df[\"Granular Labels\"])\n",
    "    \n",
    "    #input_df[\"Chunk Label\"] = input_df[\"Granular Labels\"].apply(lambda x: Counter(x).most_common(1)[0][0])\n",
    "    #input_df[\"Chunk Label\"] = input_df[\"Granular Labels\"].apply(lambda x: Counter(x).most_common(1)[0][0])\n",
    "    input_df[\"Chunk Label\"] = input_df[\"Granular Labels\"].str[0]\n",
    "     \n",
    "    input_df = input_df.drop(['Granular Labels'], axis=1)\n",
    "    return input_df\n",
    "\n",
    "dfs = []\n",
    "\n",
    "for i in range(0,1):\n",
    "    df = build_chunked_input(0+(200*i), 200+(200*i))\n",
    "    print(df.shape)\n",
    "    dfs.append(df)   \n",
    "    \n",
    "chunk_df = pd.concat(dfs)   \n",
    "chunk_df.info(null_counts=True)"
   ]
  },
  {
   "cell_type": "code",
   "execution_count": 6,
   "metadata": {},
   "outputs": [],
   "source": [
    "chunk_df = chunk_df.dropna()"
   ]
  },
  {
   "cell_type": "code",
   "execution_count": 106,
   "metadata": {},
   "outputs": [
    {
     "data": {
      "text/html": [
       "<div>\n",
       "<style scoped>\n",
       "    .dataframe tbody tr th:only-of-type {\n",
       "        vertical-align: middle;\n",
       "    }\n",
       "\n",
       "    .dataframe tbody tr th {\n",
       "        vertical-align: top;\n",
       "    }\n",
       "\n",
       "    .dataframe thead th {\n",
       "        text-align: right;\n",
       "    }\n",
       "</style>\n",
       "<table border=\"1\" class=\"dataframe\">\n",
       "  <thead>\n",
       "    <tr style=\"text-align: right;\">\n",
       "      <th></th>\n",
       "      <th>Signal</th>\n",
       "      <th>Sequence Label</th>\n",
       "      <th>Chunk Label</th>\n",
       "      <th>Signal Length</th>\n",
       "    </tr>\n",
       "  </thead>\n",
       "  <tbody>\n",
       "    <tr>\n",
       "      <th>0</th>\n",
       "      <td>[0.42781279089285984, 0.43075796188063664, 0.4...</td>\n",
       "      <td>non atrial fibrillation</td>\n",
       "      <td>non atrial fibrillation</td>\n",
       "      <td>520088</td>\n",
       "    </tr>\n",
       "    <tr>\n",
       "      <th>0</th>\n",
       "      <td>[0.34093787673009723, 0.34156353481558344, 0.3...</td>\n",
       "      <td>non atrial fibrillation</td>\n",
       "      <td>non atrial fibrillation</td>\n",
       "      <td>520088</td>\n",
       "    </tr>\n",
       "    <tr>\n",
       "      <th>0</th>\n",
       "      <td>[0.3958737086264516, 0.3964230669454151, 0.397...</td>\n",
       "      <td>non atrial fibrillation</td>\n",
       "      <td>non atrial fibrillation</td>\n",
       "      <td>520088</td>\n",
       "    </tr>\n",
       "    <tr>\n",
       "      <th>0</th>\n",
       "      <td>[0.37496757259922786, 0.3760815491904595, 0.37...</td>\n",
       "      <td>non atrial fibrillation</td>\n",
       "      <td>non atrial fibrillation</td>\n",
       "      <td>520088</td>\n",
       "    </tr>\n",
       "    <tr>\n",
       "      <th>0</th>\n",
       "      <td>[0.5733469655582853, 0.6473424791320138, 0.703...</td>\n",
       "      <td>non atrial fibrillation</td>\n",
       "      <td>non atrial fibrillation</td>\n",
       "      <td>520088</td>\n",
       "    </tr>\n",
       "  </tbody>\n",
       "</table>\n",
       "</div>"
      ],
      "text/plain": [
       "                                              Signal           Sequence Label  \\\n",
       "0  [0.42781279089285984, 0.43075796188063664, 0.4...  non atrial fibrillation   \n",
       "0  [0.34093787673009723, 0.34156353481558344, 0.3...  non atrial fibrillation   \n",
       "0  [0.3958737086264516, 0.3964230669454151, 0.397...  non atrial fibrillation   \n",
       "0  [0.37496757259922786, 0.3760815491904595, 0.37...  non atrial fibrillation   \n",
       "0  [0.5733469655582853, 0.6473424791320138, 0.703...  non atrial fibrillation   \n",
       "\n",
       "               Chunk Label Signal Length  \n",
       "0  non atrial fibrillation        520088  \n",
       "0  non atrial fibrillation        520088  \n",
       "0  non atrial fibrillation        520088  \n",
       "0  non atrial fibrillation        520088  \n",
       "0  non atrial fibrillation        520088  "
      ]
     },
     "execution_count": 106,
     "metadata": {},
     "output_type": "execute_result"
    }
   ],
   "source": [
    "chunk_df.head()"
   ]
  },
  {
   "cell_type": "code",
   "execution_count": 105,
   "metadata": {},
   "outputs": [
    {
     "data": {
      "text/plain": [
       "3056"
      ]
     },
     "execution_count": 105,
     "metadata": {},
     "output_type": "execute_result"
    }
   ],
   "source": [
    "chunk_df['Signal'].iloc[200].size"
   ]
  },
  {
   "cell_type": "code",
   "execution_count": 25,
   "metadata": {},
   "outputs": [],
   "source": [
    "chunk_df.to_pickle(\"/Users/Hasan/Desktop/Workspace/cpsc2021-AFIB/afib_data/chunk_df.pkl\")"
   ]
  },
  {
   "cell_type": "code",
   "execution_count": null,
   "metadata": {},
   "outputs": [],
   "source": [
    "chunk_df['Chunk Label'].value_counts()"
   ]
  },
  {
   "cell_type": "code",
   "execution_count": null,
   "metadata": {},
   "outputs": [],
   "source": [
    "DATA_PATH = \"/Users/Hasan/Desktop/Workspace/cpsc2021-AFIB/afib_data\"\n",
    "sample_path = os.path.join(DATA_PATH, \"Training_set_I/data_25_20\")\n",
    "sig, sig_len, fs, label, label_arr, beat_loc = load_record(sample_path)\n",
    "pd.Series(label_arr).value_counts()"
   ]
  },
  {
   "cell_type": "code",
   "execution_count": 5,
   "metadata": {},
   "outputs": [
    {
     "data": {
      "text/plain": [
       "[<matplotlib.lines.Line2D at 0x7fce5d90b0d0>]"
      ]
     },
     "execution_count": 5,
     "metadata": {},
     "output_type": "execute_result"
    },
    {
     "data": {
      "image/png": "[encoded data removed]",
      "text/plain": [
       "<Figure size 432x288 with 1 Axes>"
      ]
     },
     "metadata": {
      "needs_background": "light"
     },
     "output_type": "display_data"
    }
   ],
   "source": [
    "test_sig = df.iloc[0, 0][0:300]\n",
    "test_sig_mean = np.mean(test_sig)\n",
    "test_sig_std = np.std(test_sig)\n",
    "norm_sig = (test_sig - test_sig_mean) / test_sig_std\n",
    "plt.plot(test_sig, color='r')\n",
    "plt.plot(norm_sig, color='b')"
   ]
  },
  {
   "cell_type": "code",
   "execution_count": null,
   "metadata": {},
   "outputs": [],
   "source": [
    "print(max(test_sig), min(test_sig))\n",
    "print(max(norm_sig), min(norm_sig))"
   ]
  },
  {
   "cell_type": "code",
   "execution_count": null,
   "metadata": {},
   "outputs": [],
   "source": []
  },
  {
   "cell_type": "code",
   "execution_count": null,
   "metadata": {},
   "outputs": [],
   "source": [
    "test_sig"
   ]
  },
  {
   "cell_type": "markdown",
   "metadata": {},
   "source": [
    "## Model"
   ]
  },
  {
   "cell_type": "code",
   "execution_count": 24,
   "metadata": {},
   "outputs": [],
   "source": [
    "from keras.models import Sequential\n",
    "from keras.layers import Dense, Dropout, Activation, Flatten\n",
    "from keras.layers import Embedding, MaxPooling1D\n",
    "from keras.layers import Conv1D, GlobalMaxPooling1D, GlobalAveragePooling1D\n",
    "from keras.preprocessing.text import Tokenizer\n",
    "from keras.preprocessing import sequence\n",
    "\n",
    "from sklearn.preprocessing import LabelEncoder\n",
    "import time\n",
    "from keras import metrics"
   ]
  },
  {
   "cell_type": "code",
   "execution_count": 26,
   "metadata": {},
   "outputs": [
    {
     "data": {
      "text/plain": [
       "0    [0.42781279089285984, 0.43075796188063664, 0.4...\n",
       "0    [0.42386046298698327, 0.421098411438861, 0.417...\n",
       "0    [0.36205765210358454, 0.37277013932337366, 0.3...\n",
       "0    [0.5523034899513207, 0.564480932688346, 0.5972...\n",
       "0    [0.38361996612290367, 0.3867177366437259, 0.38...\n",
       "Name: Signal, dtype: object"
      ]
     },
     "execution_count": 26,
     "metadata": {},
     "output_type": "execute_result"
    }
   ],
   "source": [
    "chunk_df.Signal.head()"
   ]
  },
  {
   "cell_type": "code",
   "execution_count": 28,
   "metadata": {},
   "outputs": [],
   "source": [
    "chunk_df = chunk_df.sample(frac=1)\n",
    "X = chunk_df['Signal']\n",
    "y = chunk_df['Chunk Label']"
   ]
  },
  {
   "cell_type": "code",
   "execution_count": 75,
   "metadata": {},
   "outputs": [
    {
     "data": {
      "text/plain": [
       "194    [0.4869455083698289, 0.4884561976408832, 0.488...\n",
       "32     [0.4412805957394861, 0.44350851492400667, 0.44...\n",
       "65     [0.6841695660135506, 0.6808429469572117, 0.691...\n",
       "52     [0.35661966672770556, 0.3576268082768724, 0.35...\n",
       "177    [0.24636044559743628, 0.24637570578361057, 0.2...\n",
       "Name: Signal, dtype: object"
      ]
     },
     "execution_count": 75,
     "metadata": {},
     "output_type": "execute_result"
    }
   ],
   "source": [
    "X.head()"
   ]
  },
  {
   "cell_type": "code",
   "execution_count": 73,
   "metadata": {},
   "outputs": [],
   "source": [
    "from sklearn.model_selection import train_test_split\n",
    "\n",
    "X_train, X_test, y_train, y_test = train_test_split(X, y, test_size=0.33, random_state=42)"
   ]
  },
  {
   "cell_type": "code",
   "execution_count": 86,
   "metadata": {},
   "outputs": [
    {
     "data": {
      "text/plain": [
       "(12033,)"
      ]
     },
     "execution_count": 86,
     "metadata": {},
     "output_type": "execute_result"
    }
   ],
   "source": [
    "X_train[3].shape"
   ]
  },
  {
   "cell_type": "code",
   "execution_count": 71,
   "metadata": {},
   "outputs": [
    {
     "data": {
      "text/plain": [
       "2412000"
      ]
     },
     "execution_count": 71,
     "metadata": {},
     "output_type": "execute_result"
    }
   ],
   "source": [
    "np.size(X_train)"
   ]
  },
  {
   "cell_type": "code",
   "execution_count": 67,
   "metadata": {},
   "outputs": [
    {
     "data": {
      "text/plain": [
       "2412000"
      ]
     },
     "execution_count": 67,
     "metadata": {},
     "output_type": "execute_result"
    }
   ],
   "source": [
    "#X_train.shape[0]\n",
    "X_train = np.expand_dims(X_train, axis=0)\n",
    "shape = np.size(X_train)\n",
    "shape"
   ]
  },
  {
   "cell_type": "code",
   "execution_count": 42,
   "metadata": {},
   "outputs": [
    {
     "name": "stderr",
     "output_type": "stream",
     "text": [
      "2021-12-09 18:26:12.783760: I tensorflow/core/platform/cpu_feature_guard.cc:151] This TensorFlow binary is optimized with oneAPI Deep Neural Network Library (oneDNN) to use the following CPU instructions in performance-critical operations:  AVX2 FMA\n",
      "To enable them in other operations, rebuild TensorFlow with the appropriate compiler flags.\n"
     ]
    },
    {
     "name": "stdout",
     "output_type": "stream",
     "text": [
      "Model: \"sequential\"\n",
      "_________________________________________________________________\n",
      " Layer (type)                Output Shape              Param #   \n",
      "=================================================================\n",
      " dense (Dense)               (None, 2412000, 100)      200       \n",
      "                                                                 \n",
      " conv1d (Conv1D)             (None, 2411991, 100)      100100    \n",
      "                                                                 \n",
      " conv1d_1 (Conv1D)           (None, 2411982, 100)      100100    \n",
      "                                                                 \n",
      " max_pooling1d (MaxPooling1D  (None, 803994, 100)      0         \n",
      " )                                                               \n",
      "                                                                 \n",
      " conv1d_2 (Conv1D)           (None, 803985, 160)       160160    \n",
      "                                                                 \n",
      " conv1d_3 (Conv1D)           (None, 803976, 160)       256160    \n",
      "                                                                 \n",
      " global_average_pooling1d (G  (None, 160)              0         \n",
      " lobalAveragePooling1D)                                          \n",
      "                                                                 \n",
      " dropout (Dropout)           (None, 160)               0         \n",
      "                                                                 \n",
      " dense_1 (Dense)             (None, 1)                 161       \n",
      "                                                                 \n",
      "=================================================================\n",
      "Total params: 616,881\n",
      "Trainable params: 616,881\n",
      "Non-trainable params: 0\n",
      "_________________________________________________________________\n"
     ]
    },
    {
     "ename": "AxisError",
     "evalue": "axis 2 is out of bounds for array of dimension 2",
     "output_type": "error",
     "traceback": [
      "\u001b[0;31m---------------------------------------------------------------------------\u001b[0m",
      "\u001b[0;31mAxisError\u001b[0m                                 Traceback (most recent call last)",
      "\u001b[0;32m/var/folders/jb/m0v9kc5d51xct83pk_v1ghcr0000gn/T/ipykernel_50682/1165176143.py\u001b[0m in \u001b[0;36m<module>\u001b[0;34m\u001b[0m\n\u001b[1;32m     19\u001b[0m         metrics=['accuracy'])\n\u001b[1;32m     20\u001b[0m \u001b[0;34m\u001b[0m\u001b[0m\n\u001b[0;32m---> 21\u001b[0;31m \u001b[0mX_train\u001b[0m \u001b[0;34m=\u001b[0m \u001b[0mnp\u001b[0m\u001b[0;34m.\u001b[0m\u001b[0mexpand_dims\u001b[0m\u001b[0;34m(\u001b[0m\u001b[0mX_train\u001b[0m\u001b[0;34m,\u001b[0m \u001b[0;36m2\u001b[0m\u001b[0;34m)\u001b[0m\u001b[0;34m\u001b[0m\u001b[0;34m\u001b[0m\u001b[0m\n\u001b[0m\u001b[1;32m     22\u001b[0m \u001b[0mX_test\u001b[0m \u001b[0;34m=\u001b[0m \u001b[0mnp\u001b[0m\u001b[0;34m.\u001b[0m\u001b[0mexpand_dims\u001b[0m\u001b[0;34m(\u001b[0m\u001b[0mX_test\u001b[0m\u001b[0;34m,\u001b[0m \u001b[0;36m2\u001b[0m\u001b[0;34m)\u001b[0m\u001b[0;34m\u001b[0m\u001b[0;34m\u001b[0m\u001b[0m\n\u001b[1;32m     23\u001b[0m \u001b[0;34m\u001b[0m\u001b[0m\n",
      "\u001b[0;32m<__array_function__ internals>\u001b[0m in \u001b[0;36mexpand_dims\u001b[0;34m(*args, **kwargs)\u001b[0m\n",
      "\u001b[0;32m~/opt/anaconda3/envs/cpsc/lib/python3.8/site-packages/numpy/lib/shape_base.py\u001b[0m in \u001b[0;36mexpand_dims\u001b[0;34m(a, axis)\u001b[0m\n\u001b[1;32m    595\u001b[0m \u001b[0;34m\u001b[0m\u001b[0m\n\u001b[1;32m    596\u001b[0m     \u001b[0mout_ndim\u001b[0m \u001b[0;34m=\u001b[0m \u001b[0mlen\u001b[0m\u001b[0;34m(\u001b[0m\u001b[0maxis\u001b[0m\u001b[0;34m)\u001b[0m \u001b[0;34m+\u001b[0m \u001b[0ma\u001b[0m\u001b[0;34m.\u001b[0m\u001b[0mndim\u001b[0m\u001b[0;34m\u001b[0m\u001b[0;34m\u001b[0m\u001b[0m\n\u001b[0;32m--> 597\u001b[0;31m     \u001b[0maxis\u001b[0m \u001b[0;34m=\u001b[0m \u001b[0mnormalize_axis_tuple\u001b[0m\u001b[0;34m(\u001b[0m\u001b[0maxis\u001b[0m\u001b[0;34m,\u001b[0m \u001b[0mout_ndim\u001b[0m\u001b[0;34m)\u001b[0m\u001b[0;34m\u001b[0m\u001b[0;34m\u001b[0m\u001b[0m\n\u001b[0m\u001b[1;32m    598\u001b[0m \u001b[0;34m\u001b[0m\u001b[0m\n\u001b[1;32m    599\u001b[0m     \u001b[0mshape_it\u001b[0m \u001b[0;34m=\u001b[0m \u001b[0miter\u001b[0m\u001b[0;34m(\u001b[0m\u001b[0ma\u001b[0m\u001b[0;34m.\u001b[0m\u001b[0mshape\u001b[0m\u001b[0;34m)\u001b[0m\u001b[0;34m\u001b[0m\u001b[0;34m\u001b[0m\u001b[0m\n",
      "\u001b[0;32m~/opt/anaconda3/envs/cpsc/lib/python3.8/site-packages/numpy/core/numeric.py\u001b[0m in \u001b[0;36mnormalize_axis_tuple\u001b[0;34m(axis, ndim, argname, allow_duplicate)\u001b[0m\n\u001b[1;32m   1383\u001b[0m             \u001b[0;32mpass\u001b[0m\u001b[0;34m\u001b[0m\u001b[0;34m\u001b[0m\u001b[0m\n\u001b[1;32m   1384\u001b[0m     \u001b[0;31m# Going via an iterator directly is slower than via list comprehension.\u001b[0m\u001b[0;34m\u001b[0m\u001b[0;34m\u001b[0m\u001b[0;34m\u001b[0m\u001b[0m\n\u001b[0;32m-> 1385\u001b[0;31m     \u001b[0maxis\u001b[0m \u001b[0;34m=\u001b[0m \u001b[0mtuple\u001b[0m\u001b[0;34m(\u001b[0m\u001b[0;34m[\u001b[0m\u001b[0mnormalize_axis_index\u001b[0m\u001b[0;34m(\u001b[0m\u001b[0max\u001b[0m\u001b[0;34m,\u001b[0m \u001b[0mndim\u001b[0m\u001b[0;34m,\u001b[0m \u001b[0margname\u001b[0m\u001b[0;34m)\u001b[0m \u001b[0;32mfor\u001b[0m \u001b[0max\u001b[0m \u001b[0;32min\u001b[0m \u001b[0maxis\u001b[0m\u001b[0;34m]\u001b[0m\u001b[0;34m)\u001b[0m\u001b[0;34m\u001b[0m\u001b[0;34m\u001b[0m\u001b[0m\n\u001b[0m\u001b[1;32m   1386\u001b[0m     \u001b[0;32mif\u001b[0m \u001b[0;32mnot\u001b[0m \u001b[0mallow_duplicate\u001b[0m \u001b[0;32mand\u001b[0m \u001b[0mlen\u001b[0m\u001b[0;34m(\u001b[0m\u001b[0mset\u001b[0m\u001b[0;34m(\u001b[0m\u001b[0maxis\u001b[0m\u001b[0;34m)\u001b[0m\u001b[0;34m)\u001b[0m \u001b[0;34m!=\u001b[0m \u001b[0mlen\u001b[0m\u001b[0;34m(\u001b[0m\u001b[0maxis\u001b[0m\u001b[0;34m)\u001b[0m\u001b[0;34m:\u001b[0m\u001b[0;34m\u001b[0m\u001b[0;34m\u001b[0m\u001b[0m\n\u001b[1;32m   1387\u001b[0m         \u001b[0;32mif\u001b[0m \u001b[0margname\u001b[0m\u001b[0;34m:\u001b[0m\u001b[0;34m\u001b[0m\u001b[0;34m\u001b[0m\u001b[0m\n",
      "\u001b[0;32m~/opt/anaconda3/envs/cpsc/lib/python3.8/site-packages/numpy/core/numeric.py\u001b[0m in \u001b[0;36m<listcomp>\u001b[0;34m(.0)\u001b[0m\n\u001b[1;32m   1383\u001b[0m             \u001b[0;32mpass\u001b[0m\u001b[0;34m\u001b[0m\u001b[0;34m\u001b[0m\u001b[0m\n\u001b[1;32m   1384\u001b[0m     \u001b[0;31m# Going via an iterator directly is slower than via list comprehension.\u001b[0m\u001b[0;34m\u001b[0m\u001b[0;34m\u001b[0m\u001b[0;34m\u001b[0m\u001b[0m\n\u001b[0;32m-> 1385\u001b[0;31m     \u001b[0maxis\u001b[0m \u001b[0;34m=\u001b[0m \u001b[0mtuple\u001b[0m\u001b[0;34m(\u001b[0m\u001b[0;34m[\u001b[0m\u001b[0mnormalize_axis_index\u001b[0m\u001b[0;34m(\u001b[0m\u001b[0max\u001b[0m\u001b[0;34m,\u001b[0m \u001b[0mndim\u001b[0m\u001b[0;34m,\u001b[0m \u001b[0margname\u001b[0m\u001b[0;34m)\u001b[0m \u001b[0;32mfor\u001b[0m \u001b[0max\u001b[0m \u001b[0;32min\u001b[0m \u001b[0maxis\u001b[0m\u001b[0;34m]\u001b[0m\u001b[0;34m)\u001b[0m\u001b[0;34m\u001b[0m\u001b[0;34m\u001b[0m\u001b[0m\n\u001b[0m\u001b[1;32m   1386\u001b[0m     \u001b[0;32mif\u001b[0m \u001b[0;32mnot\u001b[0m \u001b[0mallow_duplicate\u001b[0m \u001b[0;32mand\u001b[0m \u001b[0mlen\u001b[0m\u001b[0;34m(\u001b[0m\u001b[0mset\u001b[0m\u001b[0;34m(\u001b[0m\u001b[0maxis\u001b[0m\u001b[0;34m)\u001b[0m\u001b[0;34m)\u001b[0m \u001b[0;34m!=\u001b[0m \u001b[0mlen\u001b[0m\u001b[0;34m(\u001b[0m\u001b[0maxis\u001b[0m\u001b[0;34m)\u001b[0m\u001b[0;34m:\u001b[0m\u001b[0;34m\u001b[0m\u001b[0;34m\u001b[0m\u001b[0m\n\u001b[1;32m   1387\u001b[0m         \u001b[0;32mif\u001b[0m \u001b[0margname\u001b[0m\u001b[0;34m:\u001b[0m\u001b[0;34m\u001b[0m\u001b[0;34m\u001b[0m\u001b[0m\n",
      "\u001b[0;31mAxisError\u001b[0m: axis 2 is out of bounds for array of dimension 2"
     ]
    }
   ],
   "source": [
    "batch = 16\n",
    "epochs = 10\n",
    "shape = np.size(X_train, 1)\n",
    "\n",
    "\n",
    "model = Sequential()\n",
    "model.add(Dense(100, activation='relu', input_shape = (shape,1)))\n",
    "model.add(Conv1D(100, 10, activation='relu'))\n",
    "model.add(Conv1D(100, 10, activation='relu'))\n",
    "model.add(MaxPooling1D(3))\n",
    "model.add(Conv1D(160, 10, activation='relu'))\n",
    "model.add(Conv1D(160, 10, activation='relu'))\n",
    "model.add(GlobalAveragePooling1D())\n",
    "model.add(Dropout(0.3))\n",
    "model.add(Dense(1, activation='sigmoid')) \n",
    "model.summary()\n",
    "model.compile(loss='binary_crossentropy',\n",
    "        optimizer='rmsprop',\n",
    "        metrics=['accuracy'])\n",
    "\n",
    "X_train = np.expand_dims(X_train, 2)\n",
    "X_test = np.expand_dims(X_test, 2)\n",
    "\n",
    "\n",
    "model.fit(X_train,Y_train, batch_size = batch, epochs = epochs)\n",
    "score = model.evaluate(X_test, Y_test, batch_size = batch)\n",
    "score"
   ]
  },
  {
   "cell_type": "code",
   "execution_count": null,
   "metadata": {},
   "outputs": [],
   "source": []
  }
 ],
 "metadata": {
  "kernelspec": {
   "display_name": "Python 3 (ipykernel)",
   "language": "python",
   "name": "python3"
  },
  "language_info": {
   "codemirror_mode": {
    "name": "ipython",
    "version": 3
   },
   "file_extension": ".py",
   "mimetype": "text/x-python",
   "name": "python",
   "nbconvert_exporter": "python",
   "pygments_lexer": "ipython3",
   "version": "3.8.12"
  }
 },
 "nbformat": 4,
 "nbformat_minor": 4
}
